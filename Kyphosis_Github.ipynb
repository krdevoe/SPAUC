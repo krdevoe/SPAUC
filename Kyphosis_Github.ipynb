{
 "cells": [
  {
   "cell_type": "code",
   "execution_count": 1,
   "metadata": {},
   "outputs": [],
   "source": [
    "import numpy as np\n",
    "import pandas as pd\n",
    "import random\n",
    "import matplotlib.pyplot as plt\n",
    "%matplotlib inline\n",
    "import math\n",
    "import timeit"
   ]
  },
  {
   "cell_type": "code",
   "execution_count": 15,
   "metadata": {},
   "outputs": [],
   "source": [
    "from sklearn.model_selection import train_test_split\n",
    "from sklearn.metrics import classification_report, confusion_matrix\n",
    "from sklearn.metrics import roc_auc_score\n",
    "from sklearn.preprocessing import StandardScaler\n",
    "scaler = StandardScaler()"
   ]
  },
  {
   "cell_type": "code",
   "execution_count": 2,
   "metadata": {},
   "outputs": [],
   "source": [
    "df = pd.read_csv('kyphosis.csv')"
   ]
  },
  {
   "cell_type": "code",
   "execution_count": 3,
   "metadata": {},
   "outputs": [
    {
     "data": {
      "text/html": [
       "<div>\n",
       "<style scoped>\n",
       "    .dataframe tbody tr th:only-of-type {\n",
       "        vertical-align: middle;\n",
       "    }\n",
       "\n",
       "    .dataframe tbody tr th {\n",
       "        vertical-align: top;\n",
       "    }\n",
       "\n",
       "    .dataframe thead th {\n",
       "        text-align: right;\n",
       "    }\n",
       "</style>\n",
       "<table border=\"1\" class=\"dataframe\">\n",
       "  <thead>\n",
       "    <tr style=\"text-align: right;\">\n",
       "      <th></th>\n",
       "      <th>Kyphosis</th>\n",
       "      <th>Age</th>\n",
       "      <th>Number</th>\n",
       "      <th>Start</th>\n",
       "    </tr>\n",
       "  </thead>\n",
       "  <tbody>\n",
       "    <tr>\n",
       "      <th>0</th>\n",
       "      <td>absent</td>\n",
       "      <td>71</td>\n",
       "      <td>3</td>\n",
       "      <td>5</td>\n",
       "    </tr>\n",
       "    <tr>\n",
       "      <th>1</th>\n",
       "      <td>absent</td>\n",
       "      <td>158</td>\n",
       "      <td>3</td>\n",
       "      <td>14</td>\n",
       "    </tr>\n",
       "    <tr>\n",
       "      <th>2</th>\n",
       "      <td>present</td>\n",
       "      <td>128</td>\n",
       "      <td>4</td>\n",
       "      <td>5</td>\n",
       "    </tr>\n",
       "    <tr>\n",
       "      <th>3</th>\n",
       "      <td>absent</td>\n",
       "      <td>2</td>\n",
       "      <td>5</td>\n",
       "      <td>1</td>\n",
       "    </tr>\n",
       "    <tr>\n",
       "      <th>4</th>\n",
       "      <td>absent</td>\n",
       "      <td>1</td>\n",
       "      <td>4</td>\n",
       "      <td>15</td>\n",
       "    </tr>\n",
       "  </tbody>\n",
       "</table>\n",
       "</div>"
      ],
      "text/plain": [
       "  Kyphosis  Age  Number  Start\n",
       "0   absent   71       3      5\n",
       "1   absent  158       3     14\n",
       "2  present  128       4      5\n",
       "3   absent    2       5      1\n",
       "4   absent    1       4     15"
      ]
     },
     "execution_count": 3,
     "metadata": {},
     "output_type": "execute_result"
    }
   ],
   "source": [
    "df.head()"
   ]
  },
  {
   "cell_type": "code",
   "execution_count": 4,
   "metadata": {},
   "outputs": [
    {
     "name": "stdout",
     "output_type": "stream",
     "text": [
      "<class 'pandas.core.frame.DataFrame'>\n",
      "RangeIndex: 81 entries, 0 to 80\n",
      "Data columns (total 4 columns):\n",
      " #   Column    Non-Null Count  Dtype \n",
      "---  ------    --------------  ----- \n",
      " 0   Kyphosis  81 non-null     object\n",
      " 1   Age       81 non-null     int64 \n",
      " 2   Number    81 non-null     int64 \n",
      " 3   Start     81 non-null     int64 \n",
      "dtypes: int64(3), object(1)\n",
      "memory usage: 2.7+ KB\n"
     ]
    }
   ],
   "source": [
    "df.info()"
   ]
  },
  {
   "cell_type": "code",
   "execution_count": 5,
   "metadata": {},
   "outputs": [
    {
     "data": {
      "text/html": [
       "<div>\n",
       "<style scoped>\n",
       "    .dataframe tbody tr th:only-of-type {\n",
       "        vertical-align: middle;\n",
       "    }\n",
       "\n",
       "    .dataframe tbody tr th {\n",
       "        vertical-align: top;\n",
       "    }\n",
       "\n",
       "    .dataframe thead th {\n",
       "        text-align: right;\n",
       "    }\n",
       "</style>\n",
       "<table border=\"1\" class=\"dataframe\">\n",
       "  <thead>\n",
       "    <tr style=\"text-align: right;\">\n",
       "      <th></th>\n",
       "      <th>Age</th>\n",
       "      <th>Number</th>\n",
       "      <th>Start</th>\n",
       "    </tr>\n",
       "  </thead>\n",
       "  <tbody>\n",
       "    <tr>\n",
       "      <th>count</th>\n",
       "      <td>81.000000</td>\n",
       "      <td>81.000000</td>\n",
       "      <td>81.000000</td>\n",
       "    </tr>\n",
       "    <tr>\n",
       "      <th>mean</th>\n",
       "      <td>83.654321</td>\n",
       "      <td>4.049383</td>\n",
       "      <td>11.493827</td>\n",
       "    </tr>\n",
       "    <tr>\n",
       "      <th>std</th>\n",
       "      <td>58.104251</td>\n",
       "      <td>1.619423</td>\n",
       "      <td>4.883962</td>\n",
       "    </tr>\n",
       "    <tr>\n",
       "      <th>min</th>\n",
       "      <td>1.000000</td>\n",
       "      <td>2.000000</td>\n",
       "      <td>1.000000</td>\n",
       "    </tr>\n",
       "    <tr>\n",
       "      <th>25%</th>\n",
       "      <td>26.000000</td>\n",
       "      <td>3.000000</td>\n",
       "      <td>9.000000</td>\n",
       "    </tr>\n",
       "    <tr>\n",
       "      <th>50%</th>\n",
       "      <td>87.000000</td>\n",
       "      <td>4.000000</td>\n",
       "      <td>13.000000</td>\n",
       "    </tr>\n",
       "    <tr>\n",
       "      <th>75%</th>\n",
       "      <td>130.000000</td>\n",
       "      <td>5.000000</td>\n",
       "      <td>16.000000</td>\n",
       "    </tr>\n",
       "    <tr>\n",
       "      <th>max</th>\n",
       "      <td>206.000000</td>\n",
       "      <td>10.000000</td>\n",
       "      <td>18.000000</td>\n",
       "    </tr>\n",
       "  </tbody>\n",
       "</table>\n",
       "</div>"
      ],
      "text/plain": [
       "              Age     Number      Start\n",
       "count   81.000000  81.000000  81.000000\n",
       "mean    83.654321   4.049383  11.493827\n",
       "std     58.104251   1.619423   4.883962\n",
       "min      1.000000   2.000000   1.000000\n",
       "25%     26.000000   3.000000   9.000000\n",
       "50%     87.000000   4.000000  13.000000\n",
       "75%    130.000000   5.000000  16.000000\n",
       "max    206.000000  10.000000  18.000000"
      ]
     },
     "execution_count": 5,
     "metadata": {},
     "output_type": "execute_result"
    }
   ],
   "source": [
    "df.describe()"
   ]
  },
  {
   "cell_type": "code",
   "execution_count": 6,
   "metadata": {},
   "outputs": [],
   "source": [
    "def convert(x):\n",
    "    if x == 'absent':\n",
    "        return 0\n",
    "    else:\n",
    "        return 1"
   ]
  },
  {
   "cell_type": "code",
   "execution_count": 7,
   "metadata": {},
   "outputs": [],
   "source": [
    "df['Kyphosis'] = df['Kyphosis'].apply(convert)"
   ]
  },
  {
   "cell_type": "code",
   "execution_count": 8,
   "metadata": {},
   "outputs": [],
   "source": [
    "df = df.rename(columns = {'Kyphosis':'Class'})"
   ]
  },
  {
   "cell_type": "code",
   "execution_count": 9,
   "metadata": {},
   "outputs": [],
   "source": [
    "df_0 = df[df['Class'] == 0]"
   ]
  },
  {
   "cell_type": "code",
   "execution_count": 10,
   "metadata": {},
   "outputs": [],
   "source": [
    "df_1 = df[df['Class'] == 1]"
   ]
  },
  {
   "cell_type": "code",
   "execution_count": 11,
   "metadata": {},
   "outputs": [
    {
     "data": {
      "text/plain": [
       "0.20987654320987653"
      ]
     },
     "execution_count": 11,
     "metadata": {},
     "output_type": "execute_result"
    }
   ],
   "source": [
    "len(df_1)/len(df)"
   ]
  },
  {
   "cell_type": "markdown",
   "metadata": {},
   "source": [
    "## Stochastic Proximal AUC Maximization"
   ]
  },
  {
   "cell_type": "code",
   "execution_count": 12,
   "metadata": {},
   "outputs": [],
   "source": [
    "class SPAUC:\n",
    "    \n",
    "    def __init__(self, feat,lamb, C,theta):\n",
    "        self.n_p = 0\n",
    "        self.n_n = 0\n",
    "        self.feat = feat\n",
    "        self.s_p = np.zeros(self.feat)\n",
    "        self.s_n = np.zeros(self.feat)\n",
    "        self.w = np.zeros(self.feat)\n",
    "        self.t = 0\n",
    "        self.lamb = lamb\n",
    "        self.C = C\n",
    "        self.theta = theta\n",
    "\n",
    "    def grad(self, x, y, p, u, v):\n",
    "        if y == 1:   \n",
    "            return(2*(1-p)*sum((x-u)**2)*self.w + 2*p*(1-p)*(v-u) +2*p*(1-p)*sum((u-v)**2)*self.w)\n",
    "        else:\n",
    "            return(2*p*sum((x-v)**2)*self.w + 2*p*(1-p)*(v-u) +2*p*(1-p)*sum((u-v)**2)*self.w)\n",
    "    \n",
    "    def step(self):\n",
    "        return 1/(2*self.C*(self.t+1)**self.theta)\n",
    "    \n",
    "    def new_w(self, gradient):\n",
    "        return((self.w-self.step()*gradient)/(2*self.lamb*self.step()+1))\n",
    "    \n",
    "    def f(self,x):\n",
    "        return sum(self.w*x)\n",
    "    \n",
    "    def optimize(self, feat_x, y):\n",
    "        for j in range(len(feat_x)):\n",
    "            if y[j] == 1:\n",
    "                self.n_p += 1\n",
    "                self.s_p += feat_x[j,]\n",
    "            else:\n",
    "                self.n_n += 1\n",
    "                self.s_n += feat_x[j,]\n",
    "        \n",
    "            if self.n_p == 0:\n",
    "                u = np.zeros(self.feat)\n",
    "            else:\n",
    "                u = self.s_p/self.n_p\n",
    "            if self.n_n == 0:\n",
    "                v = np.zeros(self.feat)\n",
    "            else:\n",
    "                v = self.s_n/self.n_n\n",
    "            \n",
    "            ind = random.choices(range(len(feat_x)), k = 1)\n",
    "            g = self.grad(feat_x[ind,], y[ind], self.n_p/(self.t+1), u, v)\n",
    "            self.w = self.new_w(g)\n",
    "            self.t += 1\n",
    "        return(self.w)\n",
    "    \n",
    "    def AUC(self,X_test,y_test):\n",
    "        pred = []\n",
    "        for i in range(len(X_test)):\n",
    "            pred.append(self.f(X_test[i,]))\n",
    "        return roc_auc_score(y_test, pred)\n",
    "            "
   ]
  },
  {
   "cell_type": "code",
   "execution_count": 13,
   "metadata": {},
   "outputs": [],
   "source": [
    "def C(df, lamb):\n",
    "    scaler.fit(df)\n",
    "    df = scaler.transform(df)\n",
    "    k_sq = max(1, 16*max(np.square(df).sum(axis=1)))\n",
    "    return max(4*lamb, k_sq)"
   ]
  },
  {
   "cell_type": "markdown",
   "metadata": {},
   "source": [
    "**Scaling data**"
   ]
  },
  {
   "cell_type": "code",
   "execution_count": 16,
   "metadata": {},
   "outputs": [],
   "source": [
    "scaler.fit(df.drop('Class', axis = 1))\n",
    "data_0 = scaler.transform(df_0.drop('Class', axis = 1))\n",
    "data_1 = scaler.transform(df_1.drop('Class', axis = 1))"
   ]
  },
  {
   "cell_type": "markdown",
   "metadata": {},
   "source": [
    "**Cross-Validation on lambda and theta**"
   ]
  },
  {
   "cell_type": "code",
   "execution_count": 19,
   "metadata": {},
   "outputs": [],
   "source": [
    "lamb = [0,.0001,.001,.01,.1,1,10,100,1000,10000]\n",
    "theta = [0.5,0.75,1]\n",
    "auc = np.zeros([len(lamb),len(theta)])\n",
    "x = 50\n",
    "y = 3\n",
    "for k in range(x):\n",
    "    \n",
    "    X_train0, X_test0, y_train0, y_test0 = train_test_split(data_0, np.zeros(len(data_0)), test_size = .3)\n",
    "    X_train1, X_test1, y_train1, y_test1 = train_test_split(data_1, np.ones(len(data_1)), test_size = .3)\n",
    "    X_train = np.concatenate([X_train0, X_train1])\n",
    "    y_train = np.concatenate([y_train0, y_train1])\n",
    "    X_test = np.concatenate([X_test0, X_test1])\n",
    "    y_test = np.concatenate([y_test0, y_test1])\n",
    "    \n",
    "    #randomize\n",
    "    ind = random.choices(range(len(X_train)), k = len(X_train))\n",
    "    X_train = X_train[ind]\n",
    "    y_train = y_train[ind]\n",
    "    \n",
    "    for i in range(len(lamb)):\n",
    "        C1 = C(df.drop('Class', axis = 1), lamb[i])\n",
    "        for j in range(len(theta)):\n",
    "            s = SPAUC(y, lamb[i], C1, theta[j])\n",
    "            a = [0]\n",
    "            while True:\n",
    "                s.optimize(X_train,y_train)\n",
    "                a.append(s.AUC(X_train,y_train))\n",
    "                if abs(a[-1] - a[-2]) <.001:\n",
    "                    break\n",
    "            auc[i,j] += s.AUC(X_test, y_test)\n",
    "auc = auc/x"
   ]
  },
  {
   "cell_type": "code",
   "execution_count": 20,
   "metadata": {
    "scrolled": true
   },
   "outputs": [
    {
     "data": {
      "text/plain": [
       "array([[0.80466667, 0.8005    , 0.79466667],\n",
       "       [0.80466667, 0.8005    , 0.79466667],\n",
       "       [0.80466667, 0.8005    , 0.79483333],\n",
       "       [0.80466667, 0.80066667, 0.79466667],\n",
       "       [0.80483333, 0.80033333, 0.79466667],\n",
       "       [0.80583333, 0.8005    , 0.79483333],\n",
       "       [0.80533333, 0.8035    , 0.796     ],\n",
       "       [0.80533333, 0.806     , 0.80033333],\n",
       "       [0.80533333, 0.80516667, 0.8005    ],\n",
       "       [0.80533333, 0.80516667, 0.8005    ]])"
      ]
     },
     "execution_count": 20,
     "metadata": {},
     "output_type": "execute_result"
    }
   ],
   "source": [
    "auc"
   ]
  },
  {
   "cell_type": "markdown",
   "metadata": {},
   "source": [
    "**Best Parameters: lambda = 100 and theta = .75**"
   ]
  },
  {
   "cell_type": "code",
   "execution_count": 21,
   "metadata": {},
   "outputs": [],
   "source": [
    "lamb = 100\n",
    "theta = .75\n",
    "C1 = C(df.drop('Class', axis = 1), lamb)\n",
    "x = 150\n",
    "y = 3\n",
    "auc = np.zeros(150)\n",
    "run_time = np.zeros(150)\n",
    "for k in range(150):\n",
    "    \n",
    "    X_train0, X_test0, y_train0, y_test0 = train_test_split(data_0, np.zeros(len(data_0)), test_size = .3)\n",
    "    X_train1, X_test1, y_train1, y_test1 = train_test_split(data_1, np.ones(len(data_1)), test_size = .3)\n",
    "    X_train = np.concatenate([X_train0, X_train1])\n",
    "    y_train = np.concatenate([y_train0, y_train1])\n",
    "    X_test = np.concatenate([X_test0, X_test1])\n",
    "    y_test = np.concatenate([y_test0, y_test1])\n",
    "    \n",
    "    #randomize\n",
    "    ind = random.choices(range(len(X_train)), k = len(X_train))\n",
    "    X_train = X_train[ind,]\n",
    "    y_train = y_train[ind]\n",
    "    \n",
    "    \n",
    "    s = SPAUC(y, lamb, C1, theta)\n",
    "    a = [0]\n",
    "    \n",
    "    start = timeit.default_timer()\n",
    "    while True:\n",
    "        s.optimize(X_train,y_train)\n",
    "        a.append(s.AUC(X_train,y_train))\n",
    "        if abs(a[-1] - a[-2]) <.001:\n",
    "            break\n",
    "    stop = timeit.default_timer()\n",
    "    auc[k] = s.AUC(X_test,y_test)\n",
    "    run_time[k] = stop-start"
   ]
  },
  {
   "cell_type": "code",
   "execution_count": 22,
   "metadata": {},
   "outputs": [
    {
     "data": {
      "text/plain": [
       "0.8285555555555555"
      ]
     },
     "execution_count": 22,
     "metadata": {},
     "output_type": "execute_result"
    }
   ],
   "source": [
    "np.mean(auc)"
   ]
  },
  {
   "cell_type": "code",
   "execution_count": 23,
   "metadata": {},
   "outputs": [
    {
     "data": {
      "text/plain": [
       "0.07538387357427137"
      ]
     },
     "execution_count": 23,
     "metadata": {},
     "output_type": "execute_result"
    }
   ],
   "source": [
    "np.std(auc)"
   ]
  },
  {
   "cell_type": "code",
   "execution_count": 24,
   "metadata": {},
   "outputs": [
    {
     "data": {
      "text/plain": [
       "array([0.775     , 0.83333333, 0.78333333, 0.80833333, 0.725     ,\n",
       "       0.9       , 0.86666667, 0.68333333, 0.80833333, 0.89166667,\n",
       "       0.75      , 0.81666667, 0.875     , 0.75833333, 0.825     ,\n",
       "       0.79166667, 0.93333333, 0.80833333, 0.85      , 0.86666667,\n",
       "       0.98333333, 0.70833333, 0.775     , 0.86666667, 0.71666667,\n",
       "       0.90833333, 0.93333333, 0.78333333, 0.9       , 0.675     ,\n",
       "       0.74166667, 0.86666667, 0.85      , 0.94166667, 0.76666667,\n",
       "       0.775     , 0.85833333, 0.80833333, 0.83333333, 0.94166667,\n",
       "       0.9       , 0.85833333, 0.8       , 0.91666667, 0.81666667,\n",
       "       0.75      , 0.75833333, 0.81666667, 0.74166667, 0.71666667,\n",
       "       0.75833333, 0.825     , 0.83333333, 1.        , 0.80833333,\n",
       "       0.79166667, 0.9       , 0.80833333, 0.76666667, 0.85833333,\n",
       "       0.90833333, 0.73333333, 0.84166667, 0.71666667, 0.78333333,\n",
       "       0.83333333, 0.83333333, 0.80833333, 0.875     , 0.89166667,\n",
       "       0.90833333, 0.83333333, 0.76666667, 0.79166667, 0.89166667,\n",
       "       0.725     , 0.81666667, 0.875     , 0.85      , 0.65      ,\n",
       "       0.80833333, 0.70833333, 0.96666667, 0.825     , 0.75833333,\n",
       "       0.80833333, 0.89166667, 0.71666667, 0.675     , 0.95833333,\n",
       "       0.81666667, 0.84166667, 0.86666667, 0.65      , 0.8       ,\n",
       "       0.88333333, 0.91666667, 0.80833333, 0.85833333, 0.84166667,\n",
       "       0.825     , 0.80833333, 0.83333333, 0.85833333, 0.80833333,\n",
       "       0.90833333, 0.9       , 0.825     , 0.86666667, 0.90833333,\n",
       "       0.75      , 0.9       , 0.81666667, 0.80833333, 0.80833333,\n",
       "       0.8       , 0.75833333, 0.78333333, 0.85      , 0.79166667,\n",
       "       0.9       , 0.90833333, 0.80833333, 0.825     , 0.775     ,\n",
       "       0.69166667, 0.83333333, 0.86666667, 0.91666667, 0.85833333,\n",
       "       0.79166667, 0.96666667, 0.625     , 0.88333333, 0.96666667,\n",
       "       0.875     , 0.7       , 0.96666667, 0.94166667, 0.74166667,\n",
       "       0.85833333, 0.76666667, 0.93333333, 0.86666667, 0.8       ,\n",
       "       0.79166667, 0.95      , 0.96666667, 0.95      , 0.80833333])"
      ]
     },
     "execution_count": 24,
     "metadata": {},
     "output_type": "execute_result"
    }
   ],
   "source": [
    "auc"
   ]
  },
  {
   "cell_type": "code",
   "execution_count": 25,
   "metadata": {},
   "outputs": [
    {
     "data": {
      "text/plain": [
       "0.009854876073335768"
      ]
     },
     "execution_count": 25,
     "metadata": {},
     "output_type": "execute_result"
    }
   ],
   "source": [
    "run_time.mean()"
   ]
  },
  {
   "cell_type": "code",
   "execution_count": 26,
   "metadata": {},
   "outputs": [
    {
     "data": {
      "text/plain": [
       "0.004887744370943725"
      ]
     },
     "execution_count": 26,
     "metadata": {},
     "output_type": "execute_result"
    }
   ],
   "source": [
    "run_time.std()"
   ]
  },
  {
   "cell_type": "code",
   "execution_count": 27,
   "metadata": {},
   "outputs": [
    {
     "data": {
      "text/plain": [
       "array([0.03536418, 0.0083234 , 0.01010707, 0.00564105, 0.00519891,\n",
       "       0.01239758, 0.00479792, 0.0070981 , 0.00980665, 0.00589774,\n",
       "       0.00736239, 0.01578507, 0.0094723 , 0.00492519, 0.00936945,\n",
       "       0.00945886, 0.00683794, 0.00939702, 0.00695938, 0.00682509,\n",
       "       0.01088944, 0.00647618, 0.01147874, 0.01744123, 0.01397517,\n",
       "       0.03027803, 0.01191231, 0.00931882, 0.0076292 , 0.00456315,\n",
       "       0.00467158, 0.00733297, 0.00911906, 0.00470662, 0.01401508,\n",
       "       0.00943772, 0.01160545, 0.00459009, 0.00648535, 0.00466425,\n",
       "       0.00903148, 0.01122421, 0.01420216, 0.01170379, 0.00698661,\n",
       "       0.0117935 , 0.00467078, 0.00935622, 0.00457091, 0.00678957,\n",
       "       0.00449806, 0.00940995, 0.01554726, 0.00940127, 0.01187473,\n",
       "       0.00465018, 0.01526667, 0.01520556, 0.00999949, 0.00467438,\n",
       "       0.0095511 , 0.00706802, 0.00519338, 0.01209202, 0.00728825,\n",
       "       0.00914923, 0.00906854, 0.00721458, 0.00922575, 0.00665601,\n",
       "       0.00658817, 0.00468456, 0.01193229, 0.00682203, 0.01203655,\n",
       "       0.01198879, 0.0046749 , 0.00707201, 0.01173156, 0.00470026,\n",
       "       0.01617235, 0.01144985, 0.00744755, 0.00719875, 0.00449288,\n",
       "       0.00888895, 0.02165809, 0.00467206, 0.0055434 , 0.00578734,\n",
       "       0.01264217, 0.00900063, 0.01877655, 0.0057412 , 0.00599839,\n",
       "       0.01618964, 0.00947484, 0.02731026, 0.01152249, 0.01721865,\n",
       "       0.00863062, 0.01198902, 0.00843668, 0.00578408, 0.02064957,\n",
       "       0.0126734 , 0.0057486 , 0.00524332, 0.00762173, 0.00475958,\n",
       "       0.01752966, 0.01519326, 0.00770127, 0.01083042, 0.01124795,\n",
       "       0.0134539 , 0.00770981, 0.00999995, 0.00528334, 0.00973114,\n",
       "       0.00745348, 0.00736024, 0.01229462, 0.00790942, 0.01802971,\n",
       "       0.01050324, 0.01868807, 0.00531099, 0.01427475, 0.01207043,\n",
       "       0.00791097, 0.01045475, 0.00507773, 0.00764888, 0.00774613,\n",
       "       0.00766293, 0.01214383, 0.01412797, 0.00711797, 0.00477365,\n",
       "       0.01008104, 0.00533759, 0.00791196, 0.01110504, 0.01035059,\n",
       "       0.01134034, 0.0082025 , 0.01876265, 0.01261525, 0.00935086])"
      ]
     },
     "execution_count": 27,
     "metadata": {},
     "output_type": "execute_result"
    }
   ],
   "source": [
    "run_time"
   ]
  }
 ],
 "metadata": {
  "kernelspec": {
   "display_name": "Python 3",
   "language": "python",
   "name": "python3"
  },
  "language_info": {
   "codemirror_mode": {
    "name": "ipython",
    "version": 3
   },
   "file_extension": ".py",
   "mimetype": "text/x-python",
   "name": "python",
   "nbconvert_exporter": "python",
   "pygments_lexer": "ipython3",
   "version": "3.7.10"
  }
 },
 "nbformat": 4,
 "nbformat_minor": 4
}
